{
 "cells": [
  {
   "cell_type": "markdown",
   "metadata": {},
   "source": [
    "# Technical Report: Analysis of Instacart Orders Placed in Year 2017 "
   ]
  },
  {
   "cell_type": "markdown",
   "metadata": {},
   "source": [
    "### Published By: Darshan Donthi"
   ]
  },
  {
   "cell_type": "markdown",
   "metadata": {},
   "source": [
    "### Background:\n",
    "Instacart is a company that operates a grocery delivery and pick-up service, and is headquartered in San Francisco.<br> \n",
    "This report uses an anonymized dataset which contains a sample of over 3 million grocery orders from more than 200,000 Instacart users in 2017 [1]."
   ]
  },
  {
   "cell_type": "markdown",
   "metadata": {},
   "source": [
    "### Objectives: ###\n",
    "\n",
    "**1) Answer two key business questions:**<br>\n",
    "-- What products are reordered the most?<br>\n",
    "-- What times of day are these products ordered?<br>\n",
    "\n",
    "**2) Predict the hour of day a user will place an order:**<br>\n",
    "-- Create Polynomial Regression models of varying degrees<br>\n",
    "-- Use metrics to determine the best model and its viability<br> "
   ]
  },
  {
   "cell_type": "markdown",
   "metadata": {},
   "source": [
    "### Table of Contents:\n",
    "\n",
    "**Section 1:** Read, Clean, and Explore the Data <br>\n",
    "**Section 2:** Answering Key Business Questions <br>\n",
    "**Section 3:** Feature Engineering for Use in Predictive Models <br> \n",
    "**Section 4:** Predictive Models and Analysis <br>\n",
    "**Section 5:** Future Work<br>"
   ]
  },
  {
   "cell_type": "markdown",
   "metadata": {},
   "source": [
    "### Data Dictionary [2]:\n",
    "    \n",
    "`orders` (3.4m rows, 206k users):\n",
    "* `order_id`: order identifier\n",
    "* `user_id`: customer identifier\n",
    "* `eval_set`: which evaluation set this order belongs in (see `SET` described below)\n",
    "* `order_number`: the order sequence number for this user (1 = first, n = nth)\n",
    "* `order_dow`: the day of the week the order was placed on\n",
    "* `order_hour_of_day`: the hour of the day the order was placed on\n",
    "* `days_since_prior`: days since the last order, capped at 30 (with NAs for `order_number` = 1)\n",
    "\n",
    "`products` (50k rows):\n",
    "* `product_id`: product identifier\n",
    "* `product_name`: name of the product\n",
    "* `aisle_id`: foreign key\n",
    "* `department_id`: foreign key\n",
    "\n",
    "`aisles` (134 rows):\n",
    "* `aisle_id`: aisle identifier\n",
    "* `aisle`: the name of the aisle\n",
    "\n",
    "`departments` (21 rows):\n",
    "* `department_id`: department identifier\n",
    "* `department`: the name of the department\n",
    "\n",
    "`order_products__SET` (30m+ rows):\n",
    "* `order_id`: foreign key\n",
    "* `product_id`: foreign key\n",
    "* `add_to_cart_order`: order in which each product was added to cart\n",
    "* `reordered`: 1 if this product has been ordered by this user in the past, 0 otherwise\n",
    "\n",
    "where `SET` is one of the following evaluation sets (`eval_set` in `orders`):\n",
    "* `\"prior\"`: orders prior to that users most recent order (~3.2m orders)\n",
    "* `\"train\"`: training data supplied to participants (~131k orders)"
   ]
  },
  {
   "cell_type": "markdown",
   "metadata": {},
   "source": [
    "## Section 1: Read, Clean, and Explore the Data"
   ]
  },
  {
   "cell_type": "markdown",
   "metadata": {},
   "source": [
    "### Read in All Data Sets"
   ]
  },
  {
   "cell_type": "code",
   "execution_count": 1,
   "metadata": {},
   "outputs": [],
   "source": [
    "#Import necessary libraries for use.\n",
    "\n",
    "import pandas as pd\n",
    "import numpy as np\n",
    "import seaborn as sns\n",
    "import matplotlib.pyplot as plt\n",
    "\n",
    "plt.style.use('ggplot')\n",
    "%matplotlib inline"
   ]
  },
  {
   "cell_type": "code",
   "execution_count": 2,
   "metadata": {},
   "outputs": [],
   "source": [
    "#Set index and rename columns for all DFs while reading them in.\n",
    "\n",
    "#Read in aisles data.\n",
    "aisles = pd.read_csv(\"./data/instacart_dataset_2017/aisles.csv\", index_col='aisle_id'); #set index to aisle_id (Primary Key)\n",
    "aisles.columns = ['aisle_name']; #rename column aisle to aisle_name\n",
    "\n",
    "#Read in departments data.\n",
    "departments = pd.read_csv(\"./data/instacart_dataset_2017/departments.csv\");\n",
    "departments.columns = ['dept_id','dept_name'];   #rename column names (for readability)\n",
    "departments.set_index('dept_id', inplace = True);   #reset index of departments to dept_id (Primary Key)\n",
    "\n",
    "#Read in products data.\n",
    "products = pd.read_csv(\"./data/instacart_dataset_2017/products.csv\");\n",
    "products.rename(columns = {'department_id':'dept_id'}, inplace = True) #Rename department_id to dept_id (for readability)\n",
    "products.set_index('product_id', inplace = True);   #reset index of products to product_id (Primary Key)"
   ]
  },
  {
   "cell_type": "code",
   "execution_count": 3,
   "metadata": {},
   "outputs": [
    {
     "name": "stderr",
     "output_type": "stream",
     "text": [
      "D:\\Anaconda\\lib\\site-packages\\numpy\\lib\\arraysetops.py:569: FutureWarning: elementwise comparison failed; returning scalar instead, but in the future will perform elementwise comparison\n",
      "  mask |= (ar1 == a)\n"
     ]
    }
   ],
   "source": [
    "#Read in orders data (~3.4 m rows).\n",
    "orders = pd.read_csv(\"./data/instacart_dataset_2017/orders.csv\", index_col='order_id');\n",
    "orders.sort_index(axis = 0, inplace = True); #sorts data according to row index order_id\n",
    "\n",
    "#Read in order products data.\n",
    "order_products_train = pd.read_csv(\"./data/instacart_dataset_2017/order_products__train.csv\");  # ~131k orders"
   ]
  },
  {
   "cell_type": "markdown",
   "metadata": {},
   "source": [
    "### Clean the Data"
   ]
  },
  {
   "cell_type": "code",
   "execution_count": 4,
   "metadata": {},
   "outputs": [
    {
     "name": "stdout",
     "output_type": "stream",
     "text": [
      "aisle_name    1.0\n",
      "dtype: float64\n"
     ]
    }
   ],
   "source": [
    "#Check fill rate of aisles DF.\n",
    "print(aisles.notnull().mean())\n",
    "\n",
    "#There are no missing aisle names."
   ]
  },
  {
   "cell_type": "code",
   "execution_count": 5,
   "metadata": {},
   "outputs": [
    {
     "name": "stdout",
     "output_type": "stream",
     "text": [
      "dept_name    1.0\n",
      "dtype: float64\n"
     ]
    }
   ],
   "source": [
    "#Check fill rate of departments DF.\n",
    "print(departments.notnull().mean())\n",
    "\n",
    "#There are no missing dept names."
   ]
  },
  {
   "cell_type": "code",
   "execution_count": 6,
   "metadata": {},
   "outputs": [
    {
     "name": "stdout",
     "output_type": "stream",
     "text": [
      "product_name    1.0\n",
      "aisle_id        1.0\n",
      "dept_id         1.0\n",
      "dtype: float64\n"
     ]
    }
   ],
   "source": [
    "#Check fill rate of products DF.\n",
    "print(products.notnull().mean())\n",
    "\n",
    "#There are no missing values in all three columns."
   ]
  },
  {
   "cell_type": "code",
   "execution_count": 7,
   "metadata": {},
   "outputs": [
    {
     "name": "stdout",
     "output_type": "stream",
     "text": [
      "Number of rows in products DF: 49688\n",
      "Number of unique product names: 49688\n"
     ]
    }
   ],
   "source": [
    "#Verify if all product names are unique.\n",
    "\n",
    "print(f'Number of rows in products DF: {products.shape[0]}')\n",
    "print(f'Number of unique product names: {products.product_name.nunique()}')\n",
    "\n",
    "#The number of product names matches the number of rows in products, so all product names are unique."
   ]
  },
  {
   "cell_type": "code",
   "execution_count": 8,
   "metadata": {},
   "outputs": [],
   "source": [
    "#Drop the \"eval_set\" column from orders DF.\n",
    "\n",
    "orders.drop('eval_set', axis = 1, inplace = True)   #specify axis = 1 to drop a column"
   ]
  },
  {
   "cell_type": "code",
   "execution_count": 9,
   "metadata": {},
   "outputs": [
    {
     "name": "stdout",
     "output_type": "stream",
     "text": [
      "user_id                   1.000000\n",
      "order_number              1.000000\n",
      "order_dow                 1.000000\n",
      "order_hour_of_day         1.000000\n",
      "days_since_prior_order    0.939724\n",
      "dtype: float64\n"
     ]
    }
   ],
   "source": [
    "#Check fill rate of orders DF.\n",
    "\n",
    "print(orders.notnull().mean())"
   ]
  },
  {
   "cell_type": "markdown",
   "metadata": {},
   "source": [
    "There are missing values in days_since_prior_order column. \n",
    "For this column, records with nulls are for new users to Instacart, so do not replace these values."
   ]
  },
  {
   "cell_type": "markdown",
   "metadata": {},
   "source": [
    "### Exploratory Data Analysis"
   ]
  },
  {
   "cell_type": "code",
   "execution_count": 10,
   "metadata": {},
   "outputs": [
    {
     "name": "stdout",
     "output_type": "stream",
     "text": [
      "Number of unique users in orders DF: 206209\n"
     ]
    }
   ],
   "source": [
    "#Number of unique users in orders DF.\n",
    "\n",
    "print(f'Number of unique users in orders DF: {orders.user_id.nunique()}')"
   ]
  },
  {
   "cell_type": "code",
   "execution_count": 11,
   "metadata": {},
   "outputs": [
    {
     "name": "stdout",
     "output_type": "stream",
     "text": [
      "Number of unique orders in order_products_train DF: 131209\n"
     ]
    }
   ],
   "source": [
    "#Number of unique orders in order_products_train DF.\n",
    "\n",
    "print(f'Number of unique orders in order_products_train DF: {order_products_train.order_id.nunique()}')"
   ]
  },
  {
   "cell_type": "code",
   "execution_count": 12,
   "metadata": {},
   "outputs": [
    {
     "data": {
      "text/html": [
       "<div>\n",
       "<style scoped>\n",
       "    .dataframe tbody tr th:only-of-type {\n",
       "        vertical-align: middle;\n",
       "    }\n",
       "\n",
       "    .dataframe tbody tr th {\n",
       "        vertical-align: top;\n",
       "    }\n",
       "\n",
       "    .dataframe thead th {\n",
       "        text-align: right;\n",
       "    }\n",
       "</style>\n",
       "<table border=\"1\" class=\"dataframe\">\n",
       "  <thead>\n",
       "    <tr style=\"text-align: right;\">\n",
       "      <th></th>\n",
       "      <th>user_id</th>\n",
       "      <th>order_number</th>\n",
       "      <th>order_dow</th>\n",
       "      <th>order_hour_of_day</th>\n",
       "      <th>days_since_prior_order</th>\n",
       "    </tr>\n",
       "    <tr>\n",
       "      <th>order_id</th>\n",
       "      <th></th>\n",
       "      <th></th>\n",
       "      <th></th>\n",
       "      <th></th>\n",
       "      <th></th>\n",
       "    </tr>\n",
       "  </thead>\n",
       "  <tbody>\n",
       "    <tr>\n",
       "      <th>1</th>\n",
       "      <td>112108</td>\n",
       "      <td>4</td>\n",
       "      <td>4</td>\n",
       "      <td>10</td>\n",
       "      <td>9.0</td>\n",
       "    </tr>\n",
       "    <tr>\n",
       "      <th>2</th>\n",
       "      <td>202279</td>\n",
       "      <td>3</td>\n",
       "      <td>5</td>\n",
       "      <td>9</td>\n",
       "      <td>8.0</td>\n",
       "    </tr>\n",
       "    <tr>\n",
       "      <th>3</th>\n",
       "      <td>205970</td>\n",
       "      <td>16</td>\n",
       "      <td>5</td>\n",
       "      <td>17</td>\n",
       "      <td>12.0</td>\n",
       "    </tr>\n",
       "  </tbody>\n",
       "</table>\n",
       "</div>"
      ],
      "text/plain": [
       "          user_id  order_number  order_dow  order_hour_of_day  \\\n",
       "order_id                                                        \n",
       "1          112108             4          4                 10   \n",
       "2          202279             3          5                  9   \n",
       "3          205970            16          5                 17   \n",
       "\n",
       "          days_since_prior_order  \n",
       "order_id                          \n",
       "1                            9.0  \n",
       "2                            8.0  \n",
       "3                           12.0  "
      ]
     },
     "metadata": {},
     "output_type": "display_data"
    }
   ],
   "source": [
    "#Print the first few rows of orders DF.\n",
    "\n",
    "display(orders.head(3))"
   ]
  },
  {
   "cell_type": "code",
   "execution_count": 13,
   "metadata": {},
   "outputs": [
    {
     "name": "stdout",
     "output_type": "stream",
     "text": [
      "Order Days of Week: [0, 1, 2, 3, 4, 5, 6]\n",
      "Order Hours of Day: [0, 1, 2, 3, 4, 5, 6, 7, 8, 9, 10, 11, 12, 13, 14, 15, 16, 17, 18, 19, 20, 21, 22, 23] \n"
     ]
    }
   ],
   "source": [
    "#Print out sorted unique values of order_dow and order_hour_of_day from orders DF.\n",
    "\n",
    "order_dow_unique = np.sort(orders.order_dow.unique())  #sorted NumPy array of unique order_dow values\n",
    "order_dow_unique = list(order_dow_unique)  #convert np array to list   \n",
    "order_hour_of_day_unique = np.sort(orders.order_hour_of_day.unique())  #sorted NumPy array of unique order_hour_of_day values.\n",
    "order_hour_of_day_unique = list(order_hour_of_day_unique)  #convert np array to list\n",
    "\n",
    "print(f'Order Days of Week: {order_dow_unique}')\n",
    "print(f'Order Hours of Day: {order_hour_of_day_unique } ')"
   ]
  },
  {
   "cell_type": "markdown",
   "metadata": {},
   "source": [
    "### What day of the week is represented by Day 0?"
   ]
  },
  {
   "cell_type": "markdown",
   "metadata": {},
   "source": [
    "**1) Plot histogram of number of orders per day to visualize distribution of data.**"
   ]
  },
  {
   "cell_type": "code",
   "execution_count": 14,
   "metadata": {},
   "outputs": [
    {
     "data": {
      "image/png": "[encoded data removed]",
      "text/plain": [
       "<Figure size 864x576 with 1 Axes>"
      ]
     },
     "metadata": {
      "needs_background": "light"
     },
     "output_type": "display_data"
    }
   ],
   "source": [
    "nbins = np.arange(0,8,1); #set bins so that each bin represents one day of the week\n",
    "orders.hist(column = 'order_dow', figsize = (12,8), bins= nbins, color = 'darkcyan');\n",
    "plt.title('Number of Orders Per Day of Week in 2017', fontsize = 20)\n",
    "plt.xlabel('Day of Week', fontsize = 14);\n",
    "plt.ylabel('Number of Orders', fontsize = 14);\n"
   ]
  },
  {
   "cell_type": "markdown",
   "metadata": {},
   "source": [
    "**Analysis:**<br>\n",
    "\n",
    "The order volume for Days 0 and 1 is significantly higher than each of Days 2 - 6.<br>\n",
    "The order volume for Days 2 - 6 is relatively uniform (less variance in between days).<br>\n",
    "Therefore, the distribution of daily order counts is right-skewed. Day 0 has the mode order volume, which is to the left of the day with mean order volume.<br>\n",
    "\n",
    "My initial assumption is that Day 0 is Saturday, and Day 1 is Sunday.<br>\n",
    "Perhaps users have more time to order groceries during the weekend than during weekdays because of employment."
   ]
  },
  {
   "cell_type": "markdown",
   "metadata": {},
   "source": [
    "**2) Plot and compare distributions of number of orders per hour on Days 6, 0, and 1.**"
   ]
  },
  {
   "cell_type": "code",
   "execution_count": 15,
   "metadata": {},
   "outputs": [
    {
     "data": {
      "image/png": "[encoded data removed]",
      "text/plain": [
       "<Figure size 1008x576 with 3 Axes>"
      ]
     },
     "metadata": {
      "needs_background": "light"
     },
     "output_type": "display_data"
    }
   ],
   "source": [
    "mask6 = (orders.order_dow == 6)  #create mask to save subset of orders placed on Day 6\n",
    "orders_day_6 = orders[mask6]  #save subset of Day 6 orders\n",
    "\n",
    "mask0 = (orders.order_dow == 0)  #create mask to save subset of orders placed on Day 0\n",
    "orders_day_0 = orders[mask0]  #save subset of Day 0 orders\n",
    "\n",
    "mask1 = (orders.order_dow == 1)  #create mask to save subset of orders placed on Day 1\n",
    "orders_day_1 = orders[mask1]  #save subset of Day 1 orders\n",
    "\n",
    "#Plot distribution of orders placed each hour of day on Days 6, 0, and 1.\n",
    "fig, axes = plt.subplots(1, 3, figsize = (14,8),sharex = True, sharey = True);\n",
    "plt.suptitle('Distribution of Orders At Each Hour of Day for Days 6, 0, and 1', fontsize = 18);\n",
    "\n",
    "#Plot common xlabel and ylabel for all 3 subplots.\n",
    "fig.text(0.5, 0.05, 'Hour of Day', ha='center', fontsize = 14);\n",
    "fig.text(0.05, 0.5, 'Number of Orders', va = 'center', rotation = 'vertical', fontsize = 14);\n",
    "\n",
    "nbins = np.arange(0,24,1); #set bins so that each bin represents one hour of the day\n",
    "\n",
    "orders_day_6.hist(column = 'order_hour_of_day', color = 'blue', bins = nbins, ax = axes[0]);\n",
    "axes[0].set_title('Day 6 Distribution', fontsize = 16);\n",
    "\n",
    "orders_day_0.hist(column = 'order_hour_of_day', color = 'green', bins = nbins, ax = axes[1]);\n",
    "axes[1].set_title('Day 0 Distribution', fontsize = 16);\n",
    "\n",
    "orders_day_1.hist(column = 'order_hour_of_day', color = 'purple', bins = nbins, ax = axes[2]);\n",
    "axes[2].set_title('Day 1 Distribution', fontsize = 16);\n"
   ]
  },
  {
   "cell_type": "markdown",
   "metadata": {},
   "source": [
    "**Analysis:**\n",
    "\n",
    "Days 6 and 0 have a maximum order volume around 3 PM. Day 1 has a maximum order volume around 11 AM. <br>\n",
    "The distributions of Days 6 and 0 look very similar, however the Day 0 volume is scaled up significantly.<br>\n",
    "The overall number of orders dramatically increases from Day 6 to Day 0, whereas Days 0 and 1 have a similarly large order volume.<br>\n",
    "There is a big jump in order volume between hours 8 - 10 AM on Days 0 and 1 compared to Day 6.<br>\n",
    "\n",
    "**Therefore, the insights obtained from this and the prior visualization lead me to assume that Day 0 is Saturday.**\n"
   ]
  },
  {
   "cell_type": "markdown",
   "metadata": {},
   "source": [
    "### View relationships between variables"
   ]
  },
  {
   "cell_type": "code",
   "execution_count": 16,
   "metadata": {},
   "outputs": [
    {
     "data": {
      "image/png": "[encoded data removed]",
      "text/plain": [
       "<Figure size 576x432 with 2 Axes>"
      ]
     },
     "metadata": {
      "needs_background": "light"
     },
     "output_type": "display_data"
    }
   ],
   "source": [
    "#Use a seaborn heatmap to view relationships between variables in orders DF.\n",
    "\n",
    "plt.figure(figsize = (8,6));\n",
    "plt.title('Heatmap of Variable Relationships in orders DF');\n",
    "sns.heatmap(orders.corr()); #view pair-wise correlations between variables"
   ]
  },
  {
   "cell_type": "markdown",
   "metadata": {},
   "source": [
    "**Variable Relationships:**<br>\n",
    "There is a strong negative correlation between order_number and days_since_prior_order.<br>\n",
    "There are no correlations between order_dow and any other variables.<br>\n",
    "There are no correlations between order_hour_of_day and any other variables.<br>"
   ]
  },
  {
   "cell_type": "markdown",
   "metadata": {},
   "source": [
    "## Section 2: Answering Key Business Questions"
   ]
  },
  {
   "cell_type": "markdown",
   "metadata": {},
   "source": [
    "### What products are reordered the most?"
   ]
  },
  {
   "cell_type": "code",
   "execution_count": 17,
   "metadata": {},
   "outputs": [
    {
     "data": {
      "text/html": [
       "<div>\n",
       "<style scoped>\n",
       "    .dataframe tbody tr th:only-of-type {\n",
       "        vertical-align: middle;\n",
       "    }\n",
       "\n",
       "    .dataframe tbody tr th {\n",
       "        vertical-align: top;\n",
       "    }\n",
       "\n",
       "    .dataframe thead th {\n",
       "        text-align: right;\n",
       "    }\n",
       "</style>\n",
       "<table border=\"1\" class=\"dataframe\">\n",
       "  <thead>\n",
       "    <tr style=\"text-align: right;\">\n",
       "      <th></th>\n",
       "      <th>order_id</th>\n",
       "      <th>product_id</th>\n",
       "      <th>add_to_cart_order</th>\n",
       "      <th>reordered</th>\n",
       "      <th>product_name</th>\n",
       "      <th>aisle_id</th>\n",
       "      <th>dept_id</th>\n",
       "    </tr>\n",
       "  </thead>\n",
       "  <tbody>\n",
       "    <tr>\n",
       "      <th>0</th>\n",
       "      <td>1</td>\n",
       "      <td>49302</td>\n",
       "      <td>1</td>\n",
       "      <td>1</td>\n",
       "      <td>Bulgarian Yogurt</td>\n",
       "      <td>120</td>\n",
       "      <td>16</td>\n",
       "    </tr>\n",
       "    <tr>\n",
       "      <th>1</th>\n",
       "      <td>1</td>\n",
       "      <td>11109</td>\n",
       "      <td>2</td>\n",
       "      <td>1</td>\n",
       "      <td>Organic 4% Milk Fat Whole Milk Cottage Cheese</td>\n",
       "      <td>108</td>\n",
       "      <td>16</td>\n",
       "    </tr>\n",
       "    <tr>\n",
       "      <th>2</th>\n",
       "      <td>1</td>\n",
       "      <td>10246</td>\n",
       "      <td>3</td>\n",
       "      <td>0</td>\n",
       "      <td>Organic Celery Hearts</td>\n",
       "      <td>83</td>\n",
       "      <td>4</td>\n",
       "    </tr>\n",
       "  </tbody>\n",
       "</table>\n",
       "</div>"
      ],
      "text/plain": [
       "   order_id  product_id  add_to_cart_order  reordered  \\\n",
       "0         1       49302                  1          1   \n",
       "1         1       11109                  2          1   \n",
       "2         1       10246                  3          0   \n",
       "\n",
       "                                    product_name  aisle_id  dept_id  \n",
       "0                               Bulgarian Yogurt       120       16  \n",
       "1  Organic 4% Milk Fat Whole Milk Cottage Cheese       108       16  \n",
       "2                          Organic Celery Hearts        83        4  "
      ]
     },
     "metadata": {},
     "output_type": "display_data"
    }
   ],
   "source": [
    "#Merge order_products_train and products DFs to create ordersandproducts DF.\n",
    "\n",
    "ordersandproducts = pd.merge(order_products_train, products, left_on='product_id', right_index = True)  #join on product_id\n",
    "ordersandproducts.sort_values(['order_id','add_to_cart_order'], inplace = True) #sort DF by order_id and add_to_cart_order\n",
    "display(ordersandproducts.head(3))   #print the first few rows of ordersandproducts DF"
   ]
  },
  {
   "cell_type": "code",
   "execution_count": 18,
   "metadata": {},
   "outputs": [
    {
     "data": {
      "text/html": [
       "<div>\n",
       "<style scoped>\n",
       "    .dataframe tbody tr th:only-of-type {\n",
       "        vertical-align: middle;\n",
       "    }\n",
       "\n",
       "    .dataframe tbody tr th {\n",
       "        vertical-align: top;\n",
       "    }\n",
       "\n",
       "    .dataframe thead th {\n",
       "        text-align: right;\n",
       "    }\n",
       "</style>\n",
       "<table border=\"1\" class=\"dataframe\">\n",
       "  <thead>\n",
       "    <tr style=\"text-align: right;\">\n",
       "      <th></th>\n",
       "      <th>order_id</th>\n",
       "      <th>product_id</th>\n",
       "      <th>add_to_cart_order</th>\n",
       "      <th>reordered</th>\n",
       "      <th>product_name</th>\n",
       "      <th>aisle_id</th>\n",
       "      <th>dept_id</th>\n",
       "    </tr>\n",
       "  </thead>\n",
       "  <tbody>\n",
       "    <tr>\n",
       "      <th>0</th>\n",
       "      <td>1</td>\n",
       "      <td>49302</td>\n",
       "      <td>1</td>\n",
       "      <td>1</td>\n",
       "      <td>Bulgarian Yogurt</td>\n",
       "      <td>120</td>\n",
       "      <td>16</td>\n",
       "    </tr>\n",
       "    <tr>\n",
       "      <th>1</th>\n",
       "      <td>1</td>\n",
       "      <td>11109</td>\n",
       "      <td>2</td>\n",
       "      <td>1</td>\n",
       "      <td>Organic 4% Milk Fat Whole Milk Cottage Cheese</td>\n",
       "      <td>108</td>\n",
       "      <td>16</td>\n",
       "    </tr>\n",
       "    <tr>\n",
       "      <th>4</th>\n",
       "      <td>1</td>\n",
       "      <td>43633</td>\n",
       "      <td>5</td>\n",
       "      <td>1</td>\n",
       "      <td>Lightly Smoked Sardines in Olive Oil</td>\n",
       "      <td>95</td>\n",
       "      <td>15</td>\n",
       "    </tr>\n",
       "  </tbody>\n",
       "</table>\n",
       "</div>"
      ],
      "text/plain": [
       "   order_id  product_id  add_to_cart_order  reordered  \\\n",
       "0         1       49302                  1          1   \n",
       "1         1       11109                  2          1   \n",
       "4         1       43633                  5          1   \n",
       "\n",
       "                                    product_name  aisle_id  dept_id  \n",
       "0                               Bulgarian Yogurt       120       16  \n",
       "1  Organic 4% Milk Fat Whole Milk Cottage Cheese       108       16  \n",
       "4           Lightly Smoked Sardines in Olive Oil        95       15  "
      ]
     },
     "metadata": {},
     "output_type": "display_data"
    }
   ],
   "source": [
    "#Save all products which were reordered into the reordered_products DF.\n",
    "\n",
    "mask = (ordersandproducts.reordered == 1)  #create filter to keep only products that were reordered\n",
    "reordered_products = ordersandproducts[mask]  #save subset of products which were reordered\n",
    "display(reordered_products.head(3))  #print the first few rows of the reordered_products DF"
   ]
  },
  {
   "cell_type": "code",
   "execution_count": 19,
   "metadata": {},
   "outputs": [],
   "source": [
    "#Determine the number of times each reordered product was reordered by the same user.\n",
    "\n",
    "reordered_product_counts = reordered_products.groupby('product_name').count()['product_id'] #counts per product_id"
   ]
  },
  {
   "cell_type": "code",
   "execution_count": 20,
   "metadata": {},
   "outputs": [
    {
     "name": "stdout",
     "output_type": "stream",
     "text": [
      "product_name\n",
      "Banana                    16557\n",
      "Bag of Organic Bananas    13362\n",
      "Organic Strawberries       8603\n",
      "Organic Baby Spinach       8055\n",
      "Organic Avocado            6226\n",
      "Name: product_id, dtype: int64\n"
     ]
    }
   ],
   "source": [
    "#Sort products by descending number of reorder counts.\n",
    "sorted_reordered_product_counts = reordered_product_counts.sort_values(ascending=False)\n",
    "\n",
    "#Print out the top-5 products.\n",
    "print(sorted_reordered_product_counts.head())"
   ]
  },
  {
   "cell_type": "markdown",
   "metadata": {},
   "source": [
    "**Plot horizontal bar graph of the top 20 products with the highest amount of reorders.**"
   ]
  },
  {
   "cell_type": "code",
   "execution_count": 21,
   "metadata": {},
   "outputs": [
    {
     "data": {
      "image/png": "[encoded data removed]",
      "text/plain": [
       "<Figure size 864x576 with 1 Axes>"
      ]
     },
     "metadata": {
      "needs_background": "light"
     },
     "output_type": "display_data"
    }
   ],
   "source": [
    "top20_reordered_product_counts = sorted_reordered_product_counts[:20]  #save top 20 products\n",
    "top20_reordered_product_counts.sort_values(ascending = True, inplace = True) #order products ascending by reorder count\n",
    "\n",
    "#Format and plot the horizontal bar graph.\n",
    "plt.figure(figsize = (12,8));\n",
    "plt.barh(top20_reordered_product_counts.index, top20_reordered_product_counts.values, color = 'forestgreen');\n",
    "plt.title('Top 20 Products with Highest Number of Reorders', fontsize = 18);\n",
    "plt.xlabel('Number of Reorders', fontsize = 14);\n",
    "plt.ylabel('Product Name', fontsize = 14);\n"
   ]
  },
  {
   "cell_type": "code",
   "execution_count": 22,
   "metadata": {},
   "outputs": [
    {
     "name": "stdout",
     "output_type": "stream",
     "text": [
      "produce       18\n",
      "beverages      1\n",
      "dairy eggs     1\n",
      "Name: dept_name, dtype: int64\n"
     ]
    }
   ],
   "source": [
    "#Determine all departments the top 20 reordered products are located in.\n",
    "\n",
    "#Merge top20_reordered_products_counts and products DFs.\n",
    "top20_reordered_depts = pd.merge(top20_reordered_product_counts, products, left_index=True, right_on = 'product_name')\n",
    "\n",
    "#Merge top20_reordered_depts and departments DFs.\n",
    "top20_reordered_depts = pd.merge(top20_reordered_depts, departments, left_on = 'dept_id', right_index = True)\n",
    "\n",
    "print(top20_reordered_depts.dept_name.value_counts())  #print out the number of top 20 products located in each relevant dept"
   ]
  },
  {
   "cell_type": "markdown",
   "metadata": {},
   "source": [
    "### What times of day are these products ordered?"
   ]
  },
  {
   "cell_type": "code",
   "execution_count": 23,
   "metadata": {},
   "outputs": [],
   "source": [
    "#Create a new DF to save all order info for these top 20 products\n",
    "\n",
    "top20_reordered_product_names = list(top20_reordered_product_counts.index)  #save product names\n",
    "\n",
    "#subset of top-20 products based on product_name\n",
    "top20_reordered_df = pd.DataFrame(columns = reordered_products.columns) #initialize empty DF with just column names\n",
    "\n",
    "#iteratively concatenate product subsets to save all top 20 product orders info\n",
    "for l in top20_reordered_product_names:\n",
    "    #print(l)\n",
    "    mask = (reordered_products['product_name'] == l)  #subset of orders for current product_name\n",
    "    subset_df = reordered_products[mask]   #save subset of orders\n",
    "    top20_reordered_df = pd.concat([top20_reordered_df, subset_df], axis = 0)  #concatenate current product orders subset"
   ]
  },
  {
   "cell_type": "code",
   "execution_count": 24,
   "metadata": {},
   "outputs": [
    {
     "data": {
      "text/html": [
       "<div>\n",
       "<style scoped>\n",
       "    .dataframe tbody tr th:only-of-type {\n",
       "        vertical-align: middle;\n",
       "    }\n",
       "\n",
       "    .dataframe tbody tr th {\n",
       "        vertical-align: top;\n",
       "    }\n",
       "\n",
       "    .dataframe thead th {\n",
       "        text-align: right;\n",
       "    }\n",
       "</style>\n",
       "<table border=\"1\" class=\"dataframe\">\n",
       "  <thead>\n",
       "    <tr style=\"text-align: right;\">\n",
       "      <th></th>\n",
       "      <th>order_id</th>\n",
       "      <th>product_id</th>\n",
       "      <th>add_to_cart_order</th>\n",
       "      <th>reordered</th>\n",
       "      <th>product_name</th>\n",
       "      <th>aisle_id</th>\n",
       "      <th>dept_id</th>\n",
       "    </tr>\n",
       "  </thead>\n",
       "  <tbody>\n",
       "    <tr>\n",
       "      <th>198</th>\n",
       "      <td>878</td>\n",
       "      <td>45066</td>\n",
       "      <td>4</td>\n",
       "      <td>1</td>\n",
       "      <td>Honeycrisp Apple</td>\n",
       "      <td>24</td>\n",
       "      <td>4</td>\n",
       "    </tr>\n",
       "    <tr>\n",
       "      <th>1359</th>\n",
       "      <td>3957</td>\n",
       "      <td>45066</td>\n",
       "      <td>7</td>\n",
       "      <td>1</td>\n",
       "      <td>Honeycrisp Apple</td>\n",
       "      <td>24</td>\n",
       "      <td>4</td>\n",
       "    </tr>\n",
       "    <tr>\n",
       "      <th>1477</th>\n",
       "      <td>4164</td>\n",
       "      <td>45066</td>\n",
       "      <td>23</td>\n",
       "      <td>1</td>\n",
       "      <td>Honeycrisp Apple</td>\n",
       "      <td>24</td>\n",
       "      <td>4</td>\n",
       "    </tr>\n",
       "  </tbody>\n",
       "</table>\n",
       "</div>"
      ],
      "text/plain": [
       "     order_id product_id add_to_cart_order reordered      product_name  \\\n",
       "198       878      45066                 4         1  Honeycrisp Apple   \n",
       "1359     3957      45066                 7         1  Honeycrisp Apple   \n",
       "1477     4164      45066                23         1  Honeycrisp Apple   \n",
       "\n",
       "     aisle_id dept_id  \n",
       "198        24       4  \n",
       "1359       24       4  \n",
       "1477       24       4  "
      ]
     },
     "metadata": {},
     "output_type": "display_data"
    }
   ],
   "source": [
    "#Print out first few rows of top20_reordered_df.\n",
    "\n",
    "display(top20_reordered_df.head(3))"
   ]
  },
  {
   "cell_type": "code",
   "execution_count": 25,
   "metadata": {},
   "outputs": [],
   "source": [
    "#Merge top20_reordered_df to orders DF on order_id (to access order_hour_of_day column).\n",
    "\n",
    "top20_reordered_hour_df = pd.merge(top20_reordered_df, orders, left_on = 'order_id', right_index = True)"
   ]
  },
  {
   "cell_type": "markdown",
   "metadata": {},
   "source": [
    "**Plot distributions of top 20 reordered product orders at each hour of day.**"
   ]
  },
  {
   "cell_type": "code",
   "execution_count": 26,
   "metadata": {},
   "outputs": [
    {
     "data": {
      "image/png": "[encoded data removed]",
      "text/plain": [
       "<Figure size 864x576 with 1 Axes>"
      ]
     },
     "metadata": {
      "needs_background": "light"
     },
     "output_type": "display_data"
    }
   ],
   "source": [
    "nbins = np.arange(0,24,1) #set bins so that each bin represents one hour of the day\n",
    "top20_reordered_hour_df.hist('order_hour_of_day', bins = nbins, color = 'goldenrod', figsize = (12,8));\n",
    "plt.title('Distribution of Orders At Each Hour of Day for Top 20 Reordered Products', fontsize = 18);\n",
    "plt.xlabel('Hour of Day', fontsize = 14);\n",
    "plt.ylabel('Number of Orders', fontsize = 14);\n"
   ]
  },
  {
   "cell_type": "markdown",
   "metadata": {},
   "source": [
    "### Analysis and Suggestions ###\n",
    "\n",
    "**What products are reordered the most?**<br>\n",
    "The \"produce\" department contains 18 out of 20 of the top reordered products, with product \"banana\" topping the chart at 16,557 reorders in the year 2017 for this subset of Instacart users. The 2nd-most reordered product is \"Bag of Organic bananas\", which shows that any product involving a banana is most popular across all users. It is also worth noting that 13 out of 20 of the top reordered products contain the keyword \"Organic\", which suggests that Instacart users tend to be more health-conscious.\n",
    "\n",
    "**What times of day are these products ordered?**<br>\n",
    "The distribution of top 20 product orders at each hour is left-skewed, with the mode volume of orders around 2 pm. \n",
    "The volume of orders is pretty consistent from 10 AM to 5 PM, with approximately 9k orders placed per each of these hours in 2017. Since these products are consistently ordered at high volume throughout the day, these are the most popular and have the potential to bring in the most profits for grocery stores and Instacart alike.\n",
    "\n",
    "**Suggestions for Stakeholders:** <br>\n",
    "1) Grocery outlet: Be sure to regularly restock the produce department and look into organic produce options as well. Items from the produce department are the most popular, and can help boost sales when paired with products from under-performing departments. For instance, this could be achieved by having a weekly promotion pairing a banana with an item from another department at a slightly lower bundle price so users are more likely to purchase both products. <br>\n",
    "\n",
    "2) Instacart: Try to actively suggest a top 20 product to be added to the cart for new Instacart users in order to establish product interest early. Also do this for repeat users by suggesting online bundle pricing deals with top 20 products at peak order hours of day prior to that user finalizing their cart and checking out. This will help promote users to buy products during surge pricing hours [3], and therefore bring in more profit to Instacart.  \n",
    "\n",
    "3) Users: Items from the produce department will be available for purchase most hours of the day, so there is no need to worry about planning to order groceries at a particular time. Also, it might be wise to order produce at non-peak hours (prior to 10 am, and after 5 pm) so the delivery time for your order is faster, and thus fresher to eat."
   ]
  },
  {
   "cell_type": "markdown",
   "metadata": {},
   "source": [
    "## Section 3: Feature Engineering for Use in Predictive Models"
   ]
  },
  {
   "cell_type": "code",
   "execution_count": 27,
   "metadata": {},
   "outputs": [
    {
     "data": {
      "text/html": [
       "<div>\n",
       "<style scoped>\n",
       "    .dataframe tbody tr th:only-of-type {\n",
       "        vertical-align: middle;\n",
       "    }\n",
       "\n",
       "    .dataframe tbody tr th {\n",
       "        vertical-align: top;\n",
       "    }\n",
       "\n",
       "    .dataframe thead th {\n",
       "        text-align: right;\n",
       "    }\n",
       "</style>\n",
       "<table border=\"1\" class=\"dataframe\">\n",
       "  <thead>\n",
       "    <tr style=\"text-align: right;\">\n",
       "      <th></th>\n",
       "      <th>user_id</th>\n",
       "      <th>order_number</th>\n",
       "      <th>order_dow</th>\n",
       "      <th>order_hour_of_day</th>\n",
       "      <th>days_since_prior_order</th>\n",
       "      <th>order_id</th>\n",
       "      <th>product_id</th>\n",
       "      <th>add_to_cart_order</th>\n",
       "      <th>reordered</th>\n",
       "      <th>product_name</th>\n",
       "      <th>aisle_id</th>\n",
       "      <th>dept_id</th>\n",
       "    </tr>\n",
       "  </thead>\n",
       "  <tbody>\n",
       "    <tr>\n",
       "      <th>0</th>\n",
       "      <td>112108</td>\n",
       "      <td>4</td>\n",
       "      <td>4</td>\n",
       "      <td>10</td>\n",
       "      <td>9.0</td>\n",
       "      <td>1</td>\n",
       "      <td>49302</td>\n",
       "      <td>1</td>\n",
       "      <td>1</td>\n",
       "      <td>Bulgarian Yogurt</td>\n",
       "      <td>120</td>\n",
       "      <td>16</td>\n",
       "    </tr>\n",
       "    <tr>\n",
       "      <th>335058</th>\n",
       "      <td>47901</td>\n",
       "      <td>14</td>\n",
       "      <td>4</td>\n",
       "      <td>6</td>\n",
       "      <td>16.0</td>\n",
       "      <td>816049</td>\n",
       "      <td>49302</td>\n",
       "      <td>7</td>\n",
       "      <td>1</td>\n",
       "      <td>Bulgarian Yogurt</td>\n",
       "      <td>120</td>\n",
       "      <td>16</td>\n",
       "    </tr>\n",
       "    <tr>\n",
       "      <th>505664</th>\n",
       "      <td>2993</td>\n",
       "      <td>15</td>\n",
       "      <td>0</td>\n",
       "      <td>7</td>\n",
       "      <td>7.0</td>\n",
       "      <td>1242203</td>\n",
       "      <td>49302</td>\n",
       "      <td>1</td>\n",
       "      <td>1</td>\n",
       "      <td>Bulgarian Yogurt</td>\n",
       "      <td>120</td>\n",
       "      <td>16</td>\n",
       "    </tr>\n",
       "  </tbody>\n",
       "</table>\n",
       "</div>"
      ],
      "text/plain": [
       "        user_id  order_number  order_dow  order_hour_of_day  \\\n",
       "0        112108             4          4                 10   \n",
       "335058    47901            14          4                  6   \n",
       "505664     2993            15          0                  7   \n",
       "\n",
       "        days_since_prior_order  order_id  product_id  add_to_cart_order  \\\n",
       "0                          9.0         1       49302                  1   \n",
       "335058                    16.0    816049       49302                  7   \n",
       "505664                     7.0   1242203       49302                  1   \n",
       "\n",
       "        reordered      product_name  aisle_id  dept_id  \n",
       "0               1  Bulgarian Yogurt       120       16  \n",
       "335058          1  Bulgarian Yogurt       120       16  \n",
       "505664          1  Bulgarian Yogurt       120       16  "
      ]
     },
     "metadata": {},
     "output_type": "display_data"
    }
   ],
   "source": [
    "#Merge orders and order_products_train DFs (to count number of products per order).\n",
    "allordersandproducts = pd.merge(orders, order_products_train, left_index = True, right_on = 'order_id')\n",
    "\n",
    "#Merge allordersandproducts and products DFs to get product names (join on product_id).\n",
    "allordersandproducts = pd.merge(allordersandproducts, products, left_on = 'product_id', right_index = True)\n",
    "\n",
    "display(allordersandproducts.head(3))  #print first few rows of DF"
   ]
  },
  {
   "cell_type": "code",
   "execution_count": 28,
   "metadata": {},
   "outputs": [
    {
     "data": {
      "image/png": "[encoded data removed]",
      "text/plain": [
       "<Figure size 576x432 with 2 Axes>"
      ]
     },
     "metadata": {
      "needs_background": "light"
     },
     "output_type": "display_data"
    }
   ],
   "source": [
    "#Use seaborn heatmap to view relationships between all variables in allordersandproducts DF.\n",
    "\n",
    "plt.figure(figsize = (8,6));\n",
    "plt.title('Heatmap of Variable Relationships in allordersandproducts DF');\n",
    "sns.heatmap(allordersandproducts.corr());  #view pair-wise correlations between variables"
   ]
  },
  {
   "cell_type": "markdown",
   "metadata": {},
   "source": [
    "**Variable Relationships**:<br>\n",
    "There is a positive correlation between order_number and reordered.<br>\n",
    "There is a strong negative correlation between order_number and days_since_prior_order.<br>\n",
    "There is a negative correlation between days_since_prior_order and reordered.<br>\n",
    "There is a negative correlation between add_to_cart_order and reordered.<br>"
   ]
  },
  {
   "cell_type": "markdown",
   "metadata": {},
   "source": [
    "### Engineered feature 1: cart_size"
   ]
  },
  {
   "cell_type": "code",
   "execution_count": 29,
   "metadata": {},
   "outputs": [],
   "source": [
    "#Find total product count per order_id, and save as new column 'cart_size' in orders_engineered DF.\n",
    "\n",
    "#Save total product count per order_id.\n",
    "totalprodcount_perorder = allordersandproducts.groupby('order_id').count()['product_name']\n",
    "\n",
    "#Create orders_engineered DF by merging orders DF and totalprodcount_perorder Series.\n",
    "orders_engineered = pd.merge(orders, totalprodcount_perorder, left_on = 'order_id', right_index=True)\n",
    "\n",
    "#Rename column 'product_name' to 'cart_size'.\n",
    "orders_engineered.rename(columns = {'product_name':'cart_size'}, inplace = True)"
   ]
  },
  {
   "cell_type": "code",
   "execution_count": 30,
   "metadata": {},
   "outputs": [
    {
     "data": {
      "text/html": [
       "<div>\n",
       "<style scoped>\n",
       "    .dataframe tbody tr th:only-of-type {\n",
       "        vertical-align: middle;\n",
       "    }\n",
       "\n",
       "    .dataframe tbody tr th {\n",
       "        vertical-align: top;\n",
       "    }\n",
       "\n",
       "    .dataframe thead th {\n",
       "        text-align: right;\n",
       "    }\n",
       "</style>\n",
       "<table border=\"1\" class=\"dataframe\">\n",
       "  <thead>\n",
       "    <tr style=\"text-align: right;\">\n",
       "      <th></th>\n",
       "      <th>user_id</th>\n",
       "      <th>order_number</th>\n",
       "      <th>order_dow</th>\n",
       "      <th>order_hour_of_day</th>\n",
       "      <th>days_since_prior_order</th>\n",
       "      <th>cart_size</th>\n",
       "    </tr>\n",
       "    <tr>\n",
       "      <th>order_id</th>\n",
       "      <th></th>\n",
       "      <th></th>\n",
       "      <th></th>\n",
       "      <th></th>\n",
       "      <th></th>\n",
       "      <th></th>\n",
       "    </tr>\n",
       "  </thead>\n",
       "  <tbody>\n",
       "    <tr>\n",
       "      <th>1</th>\n",
       "      <td>112108</td>\n",
       "      <td>4</td>\n",
       "      <td>4</td>\n",
       "      <td>10</td>\n",
       "      <td>9.0</td>\n",
       "      <td>8</td>\n",
       "    </tr>\n",
       "    <tr>\n",
       "      <th>36</th>\n",
       "      <td>79431</td>\n",
       "      <td>23</td>\n",
       "      <td>6</td>\n",
       "      <td>18</td>\n",
       "      <td>30.0</td>\n",
       "      <td>8</td>\n",
       "    </tr>\n",
       "    <tr>\n",
       "      <th>38</th>\n",
       "      <td>42756</td>\n",
       "      <td>6</td>\n",
       "      <td>6</td>\n",
       "      <td>16</td>\n",
       "      <td>24.0</td>\n",
       "      <td>9</td>\n",
       "    </tr>\n",
       "  </tbody>\n",
       "</table>\n",
       "</div>"
      ],
      "text/plain": [
       "          user_id  order_number  order_dow  order_hour_of_day  \\\n",
       "order_id                                                        \n",
       "1          112108             4          4                 10   \n",
       "36          79431            23          6                 18   \n",
       "38          42756             6          6                 16   \n",
       "\n",
       "          days_since_prior_order  cart_size  \n",
       "order_id                                     \n",
       "1                            9.0          8  \n",
       "36                          30.0          8  \n",
       "38                          24.0          9  "
      ]
     },
     "metadata": {},
     "output_type": "display_data"
    }
   ],
   "source": [
    "#Print out the first few rows of orders_engineered DF to view new cart_size column.\n",
    "\n",
    "display(orders_engineered.head(3))"
   ]
  },
  {
   "cell_type": "markdown",
   "metadata": {},
   "source": [
    "### Engineered feature 2: num_top20_reordered_products"
   ]
  },
  {
   "cell_type": "code",
   "execution_count": 31,
   "metadata": {
    "scrolled": true
   },
   "outputs": [],
   "source": [
    "#Find the total count of top 20 reordered products in the cart for each order.\n",
    "\n",
    "#Save all order_ids into a list and sort in ascending order.\n",
    "all_order_ids = list(allordersandproducts.order_id.unique())  #save all unique order_ids into a list\n",
    "all_order_ids.sort() #sort the list in-place"
   ]
  },
  {
   "cell_type": "code",
   "execution_count": 32,
   "metadata": {},
   "outputs": [],
   "source": [
    "#For each order id, count the number of top 20 products in the cart.\n",
    "\n",
    "num_top20_products_dict = dict(); #initialize dictionary where key is order_id and value is number of top 20 products in cart\n",
    "\n",
    "#Iterate through all order_ids and save the count of number of top 20 products per order.\n",
    "for oid in all_order_ids:\n",
    "    mask = (allordersandproducts['order_id'] == oid)  #filter to save all products per order\n",
    "    sub_df = allordersandproducts[mask]  #save all products per order into sub_df. resets for each order_id\n",
    "    \n",
    "    counter = 0  #counts number of top 20 products in cart. resets for each order_id\n",
    "    \n",
    "    for p in sub_df['product_name']:  #iterate through each product in cart\n",
    "        if p in top20_reordered_product_names:  #checks if product_name is in the top20_reordered_product_names list\n",
    "            counter+=1   #increment counter if product_name is in the top20_reordered_product_names list\n",
    "         \n",
    "    num_top20_products_dict[oid] = counter  #saves new dictionary entry with order_id as key, and counter as value"
   ]
  },
  {
   "cell_type": "code",
   "execution_count": 33,
   "metadata": {},
   "outputs": [
    {
     "data": {
      "text/html": [
       "<div>\n",
       "<style scoped>\n",
       "    .dataframe tbody tr th:only-of-type {\n",
       "        vertical-align: middle;\n",
       "    }\n",
       "\n",
       "    .dataframe tbody tr th {\n",
       "        vertical-align: top;\n",
       "    }\n",
       "\n",
       "    .dataframe thead th {\n",
       "        text-align: right;\n",
       "    }\n",
       "</style>\n",
       "<table border=\"1\" class=\"dataframe\">\n",
       "  <thead>\n",
       "    <tr style=\"text-align: right;\">\n",
       "      <th></th>\n",
       "      <th>num_top20_reordered_products</th>\n",
       "    </tr>\n",
       "  </thead>\n",
       "  <tbody>\n",
       "    <tr>\n",
       "      <th>1</th>\n",
       "      <td>2</td>\n",
       "    </tr>\n",
       "    <tr>\n",
       "      <th>36</th>\n",
       "      <td>0</td>\n",
       "    </tr>\n",
       "    <tr>\n",
       "      <th>38</th>\n",
       "      <td>0</td>\n",
       "    </tr>\n",
       "  </tbody>\n",
       "</table>\n",
       "</div>"
      ],
      "text/plain": [
       "    num_top20_reordered_products\n",
       "1                              2\n",
       "36                             0\n",
       "38                             0"
      ]
     },
     "metadata": {},
     "output_type": "display_data"
    }
   ],
   "source": [
    "#Convert num_top20_products_dict into a DF.\n",
    "num_top20_products_df = pd.DataFrame.from_dict(num_top20_products_dict, orient='index') #set key as row index of DF\n",
    "\n",
    "#Rename new column to 'num_top20_reordered_products'.\n",
    "num_top20_products_df.rename(columns = {0:'num_top20_reordered_products'}, inplace = True) \n",
    "\n",
    "display(num_top20_products_df.head(3))  #print first few rows of the DF"
   ]
  },
  {
   "cell_type": "code",
   "execution_count": 34,
   "metadata": {},
   "outputs": [
    {
     "data": {
      "text/html": [
       "<div>\n",
       "<style scoped>\n",
       "    .dataframe tbody tr th:only-of-type {\n",
       "        vertical-align: middle;\n",
       "    }\n",
       "\n",
       "    .dataframe tbody tr th {\n",
       "        vertical-align: top;\n",
       "    }\n",
       "\n",
       "    .dataframe thead th {\n",
       "        text-align: right;\n",
       "    }\n",
       "</style>\n",
       "<table border=\"1\" class=\"dataframe\">\n",
       "  <thead>\n",
       "    <tr style=\"text-align: right;\">\n",
       "      <th></th>\n",
       "      <th>user_id</th>\n",
       "      <th>order_number</th>\n",
       "      <th>order_dow</th>\n",
       "      <th>order_hour_of_day</th>\n",
       "      <th>days_since_prior_order</th>\n",
       "      <th>cart_size</th>\n",
       "      <th>num_top20_reordered_products</th>\n",
       "    </tr>\n",
       "    <tr>\n",
       "      <th>order_id</th>\n",
       "      <th></th>\n",
       "      <th></th>\n",
       "      <th></th>\n",
       "      <th></th>\n",
       "      <th></th>\n",
       "      <th></th>\n",
       "      <th></th>\n",
       "    </tr>\n",
       "  </thead>\n",
       "  <tbody>\n",
       "    <tr>\n",
       "      <th>1</th>\n",
       "      <td>112108</td>\n",
       "      <td>4</td>\n",
       "      <td>4</td>\n",
       "      <td>10</td>\n",
       "      <td>9.0</td>\n",
       "      <td>8</td>\n",
       "      <td>2</td>\n",
       "    </tr>\n",
       "    <tr>\n",
       "      <th>36</th>\n",
       "      <td>79431</td>\n",
       "      <td>23</td>\n",
       "      <td>6</td>\n",
       "      <td>18</td>\n",
       "      <td>30.0</td>\n",
       "      <td>8</td>\n",
       "      <td>0</td>\n",
       "    </tr>\n",
       "    <tr>\n",
       "      <th>38</th>\n",
       "      <td>42756</td>\n",
       "      <td>6</td>\n",
       "      <td>6</td>\n",
       "      <td>16</td>\n",
       "      <td>24.0</td>\n",
       "      <td>9</td>\n",
       "      <td>0</td>\n",
       "    </tr>\n",
       "  </tbody>\n",
       "</table>\n",
       "</div>"
      ],
      "text/plain": [
       "          user_id  order_number  order_dow  order_hour_of_day  \\\n",
       "order_id                                                        \n",
       "1          112108             4          4                 10   \n",
       "36          79431            23          6                 18   \n",
       "38          42756             6          6                 16   \n",
       "\n",
       "          days_since_prior_order  cart_size  num_top20_reordered_products  \n",
       "order_id                                                                   \n",
       "1                            9.0          8                             2  \n",
       "36                          30.0          8                             0  \n",
       "38                          24.0          9                             0  "
      ]
     },
     "metadata": {},
     "output_type": "display_data"
    }
   ],
   "source": [
    "#Merge orders_engineered DF and num_top20_products_df on order_id.\n",
    "orders_engineered = pd.merge(orders_engineered, num_top20_products_df, left_on = 'order_id', right_index=True)\n",
    "\n",
    "display(orders_engineered.head(3))   #print first few rows of the DF"
   ]
  },
  {
   "cell_type": "markdown",
   "metadata": {},
   "source": [
    "### Engineered feature 3: num_distinct_depts"
   ]
  },
  {
   "cell_type": "code",
   "execution_count": 35,
   "metadata": {},
   "outputs": [
    {
     "data": {
      "text/html": [
       "<div>\n",
       "<style scoped>\n",
       "    .dataframe tbody tr th:only-of-type {\n",
       "        vertical-align: middle;\n",
       "    }\n",
       "\n",
       "    .dataframe tbody tr th {\n",
       "        vertical-align: top;\n",
       "    }\n",
       "\n",
       "    .dataframe thead th {\n",
       "        text-align: right;\n",
       "    }\n",
       "</style>\n",
       "<table border=\"1\" class=\"dataframe\">\n",
       "  <thead>\n",
       "    <tr style=\"text-align: right;\">\n",
       "      <th></th>\n",
       "      <th>user_id</th>\n",
       "      <th>order_number</th>\n",
       "      <th>order_dow</th>\n",
       "      <th>order_hour_of_day</th>\n",
       "      <th>days_since_prior_order</th>\n",
       "      <th>order_id</th>\n",
       "      <th>product_id</th>\n",
       "      <th>add_to_cart_order</th>\n",
       "      <th>reordered</th>\n",
       "      <th>product_name</th>\n",
       "      <th>aisle_id</th>\n",
       "      <th>dept_id</th>\n",
       "      <th>dept_name</th>\n",
       "    </tr>\n",
       "  </thead>\n",
       "  <tbody>\n",
       "    <tr>\n",
       "      <th>0</th>\n",
       "      <td>112108</td>\n",
       "      <td>4</td>\n",
       "      <td>4</td>\n",
       "      <td>10</td>\n",
       "      <td>9.0</td>\n",
       "      <td>1</td>\n",
       "      <td>49302</td>\n",
       "      <td>1</td>\n",
       "      <td>1</td>\n",
       "      <td>Bulgarian Yogurt</td>\n",
       "      <td>120</td>\n",
       "      <td>16</td>\n",
       "      <td>dairy eggs</td>\n",
       "    </tr>\n",
       "    <tr>\n",
       "      <th>335058</th>\n",
       "      <td>47901</td>\n",
       "      <td>14</td>\n",
       "      <td>4</td>\n",
       "      <td>6</td>\n",
       "      <td>16.0</td>\n",
       "      <td>816049</td>\n",
       "      <td>49302</td>\n",
       "      <td>7</td>\n",
       "      <td>1</td>\n",
       "      <td>Bulgarian Yogurt</td>\n",
       "      <td>120</td>\n",
       "      <td>16</td>\n",
       "      <td>dairy eggs</td>\n",
       "    </tr>\n",
       "    <tr>\n",
       "      <th>505664</th>\n",
       "      <td>2993</td>\n",
       "      <td>15</td>\n",
       "      <td>0</td>\n",
       "      <td>7</td>\n",
       "      <td>7.0</td>\n",
       "      <td>1242203</td>\n",
       "      <td>49302</td>\n",
       "      <td>1</td>\n",
       "      <td>1</td>\n",
       "      <td>Bulgarian Yogurt</td>\n",
       "      <td>120</td>\n",
       "      <td>16</td>\n",
       "      <td>dairy eggs</td>\n",
       "    </tr>\n",
       "  </tbody>\n",
       "</table>\n",
       "</div>"
      ],
      "text/plain": [
       "        user_id  order_number  order_dow  order_hour_of_day  \\\n",
       "0        112108             4          4                 10   \n",
       "335058    47901            14          4                  6   \n",
       "505664     2993            15          0                  7   \n",
       "\n",
       "        days_since_prior_order  order_id  product_id  add_to_cart_order  \\\n",
       "0                          9.0         1       49302                  1   \n",
       "335058                    16.0    816049       49302                  7   \n",
       "505664                     7.0   1242203       49302                  1   \n",
       "\n",
       "        reordered      product_name  aisle_id  dept_id   dept_name  \n",
       "0               1  Bulgarian Yogurt       120       16  dairy eggs  \n",
       "335058          1  Bulgarian Yogurt       120       16  dairy eggs  \n",
       "505664          1  Bulgarian Yogurt       120       16  dairy eggs  "
      ]
     },
     "metadata": {},
     "output_type": "display_data"
    }
   ],
   "source": [
    "#Find distinct number of departments represented by products in each order.\n",
    "\n",
    "#Merge ordersandproducts with departments table to get dept names (join on dept_id)\n",
    "allordersandproducts_depts = pd.merge(allordersandproducts, departments, left_on = 'dept_id', right_index = True)\n",
    "\n",
    "display(allordersandproducts_depts.head(3))  #print first few rows of the DF"
   ]
  },
  {
   "cell_type": "code",
   "execution_count": 36,
   "metadata": {},
   "outputs": [],
   "source": [
    "#Find count of distinct departments per order.\n",
    "\n",
    "#Group allordersandproducts_depts by both order_id and dept_name to create a multi-index.\n",
    "prodcount_perorderanddept = allordersandproducts_depts.groupby(['order_id','dept_name']).count()['product_name']"
   ]
  },
  {
   "cell_type": "code",
   "execution_count": 37,
   "metadata": {},
   "outputs": [
    {
     "data": {
      "text/plain": [
       "order_id\n",
       "1     3\n",
       "36    4\n",
       "38    4\n",
       "Name: product_name, dtype: int64"
      ]
     },
     "metadata": {},
     "output_type": "display_data"
    }
   ],
   "source": [
    "#Group on multi-index level 'order_id' in order to count distinct number of depts represented by products in cart.\n",
    "\n",
    "distinctdeptcount_perorder = prodcount_perorderanddept.groupby(level='order_id').count()\n",
    "display(distinctdeptcount_perorder.head(3))  #print first few rows of the Series"
   ]
  },
  {
   "cell_type": "code",
   "execution_count": 38,
   "metadata": {},
   "outputs": [
    {
     "data": {
      "text/html": [
       "<div>\n",
       "<style scoped>\n",
       "    .dataframe tbody tr th:only-of-type {\n",
       "        vertical-align: middle;\n",
       "    }\n",
       "\n",
       "    .dataframe tbody tr th {\n",
       "        vertical-align: top;\n",
       "    }\n",
       "\n",
       "    .dataframe thead th {\n",
       "        text-align: right;\n",
       "    }\n",
       "</style>\n",
       "<table border=\"1\" class=\"dataframe\">\n",
       "  <thead>\n",
       "    <tr style=\"text-align: right;\">\n",
       "      <th></th>\n",
       "      <th>user_id</th>\n",
       "      <th>order_number</th>\n",
       "      <th>order_dow</th>\n",
       "      <th>order_hour_of_day</th>\n",
       "      <th>days_since_prior_order</th>\n",
       "      <th>cart_size</th>\n",
       "      <th>num_top20_reordered_products</th>\n",
       "      <th>num_distinct_depts</th>\n",
       "    </tr>\n",
       "    <tr>\n",
       "      <th>order_id</th>\n",
       "      <th></th>\n",
       "      <th></th>\n",
       "      <th></th>\n",
       "      <th></th>\n",
       "      <th></th>\n",
       "      <th></th>\n",
       "      <th></th>\n",
       "      <th></th>\n",
       "    </tr>\n",
       "  </thead>\n",
       "  <tbody>\n",
       "    <tr>\n",
       "      <th>1</th>\n",
       "      <td>112108</td>\n",
       "      <td>4</td>\n",
       "      <td>4</td>\n",
       "      <td>10</td>\n",
       "      <td>9.0</td>\n",
       "      <td>8</td>\n",
       "      <td>2</td>\n",
       "      <td>3</td>\n",
       "    </tr>\n",
       "    <tr>\n",
       "      <th>36</th>\n",
       "      <td>79431</td>\n",
       "      <td>23</td>\n",
       "      <td>6</td>\n",
       "      <td>18</td>\n",
       "      <td>30.0</td>\n",
       "      <td>8</td>\n",
       "      <td>0</td>\n",
       "      <td>4</td>\n",
       "    </tr>\n",
       "    <tr>\n",
       "      <th>38</th>\n",
       "      <td>42756</td>\n",
       "      <td>6</td>\n",
       "      <td>6</td>\n",
       "      <td>16</td>\n",
       "      <td>24.0</td>\n",
       "      <td>9</td>\n",
       "      <td>0</td>\n",
       "      <td>4</td>\n",
       "    </tr>\n",
       "  </tbody>\n",
       "</table>\n",
       "</div>"
      ],
      "text/plain": [
       "          user_id  order_number  order_dow  order_hour_of_day  \\\n",
       "order_id                                                        \n",
       "1          112108             4          4                 10   \n",
       "36          79431            23          6                 18   \n",
       "38          42756             6          6                 16   \n",
       "\n",
       "          days_since_prior_order  cart_size  num_top20_reordered_products  \\\n",
       "order_id                                                                    \n",
       "1                            9.0          8                             2   \n",
       "36                          30.0          8                             0   \n",
       "38                          24.0          9                             0   \n",
       "\n",
       "          num_distinct_depts  \n",
       "order_id                      \n",
       "1                          3  \n",
       "36                         4  \n",
       "38                         4  "
      ]
     },
     "metadata": {},
     "output_type": "display_data"
    }
   ],
   "source": [
    "#Add new column to orders_engineered DF, and rename it to 'num_distinct_depts'.\n",
    "\n",
    "orders_engineered = pd.merge(orders_engineered, distinctdeptcount_perorder, left_on = 'order_id', right_index=True)\n",
    "orders_engineered.rename(columns = {'product_name':'num_distinct_depts'}, inplace = True)\n",
    "display(orders_engineered.head(3))  #print first few rows of the DF"
   ]
  },
  {
   "cell_type": "markdown",
   "metadata": {},
   "source": [
    "### Check orders_engineered DF for any outliers"
   ]
  },
  {
   "cell_type": "code",
   "execution_count": 39,
   "metadata": {},
   "outputs": [
    {
     "data": {
      "image/png": "[encoded data removed]",
      "text/plain": [
       "<Figure size 864x576 with 1 Axes>"
      ]
     },
     "metadata": {
      "needs_background": "light"
     },
     "output_type": "display_data"
    }
   ],
   "source": [
    "#Plot boxplots of relevant numeric features in orders_engineered DF.\n",
    "\n",
    "orders_engineered.drop(columns = ['user_id', 'order_number']).boxplot(figsize = (12,8), rot = -45);\n",
    "plt.title('Boxplot of relevant numeric features in orders_engineered DF', fontsize = 18);\n",
    "plt.ylabel('Observation value', fontsize = 14);"
   ]
  },
  {
   "cell_type": "markdown",
   "metadata": {},
   "source": [
    "The column cart_size has many high-value outliers ranging between values of approximately 30 to 80.<br>\n",
    "These outliers need to be removed prior to creating and training models."
   ]
  },
  {
   "cell_type": "markdown",
   "metadata": {},
   "source": [
    "**Find and remove outliers in cart_size column by calculating Z-scores of each value.**<br>\n",
    "Z-score is the signed number of standard deviations by which the value of an observation or data point is above the mean value of what is being observed or measured. An outlier is a value which has a Z-score greater than 3."
   ]
  },
  {
   "cell_type": "code",
   "execution_count": 40,
   "metadata": {
    "scrolled": true
   },
   "outputs": [
    {
     "name": "stderr",
     "output_type": "stream",
     "text": [
      "D:\\Anaconda\\lib\\site-packages\\ipykernel_launcher.py:4: SettingWithCopyWarning: \n",
      "A value is trying to be set on a copy of a slice from a DataFrame\n",
      "\n",
      "See the caveats in the documentation: https://pandas.pydata.org/pandas-docs/stable/user_guide/indexing.html#returning-a-view-versus-a-copy\n",
      "  after removing the cwd from sys.path.\n"
     ]
    },
    {
     "data": {
      "text/html": [
       "<div>\n",
       "<style scoped>\n",
       "    .dataframe tbody tr th:only-of-type {\n",
       "        vertical-align: middle;\n",
       "    }\n",
       "\n",
       "    .dataframe tbody tr th {\n",
       "        vertical-align: top;\n",
       "    }\n",
       "\n",
       "    .dataframe thead th {\n",
       "        text-align: right;\n",
       "    }\n",
       "</style>\n",
       "<table border=\"1\" class=\"dataframe\">\n",
       "  <thead>\n",
       "    <tr style=\"text-align: right;\">\n",
       "      <th></th>\n",
       "      <th>cart_size</th>\n",
       "    </tr>\n",
       "    <tr>\n",
       "      <th>order_id</th>\n",
       "      <th></th>\n",
       "    </tr>\n",
       "  </thead>\n",
       "  <tbody>\n",
       "    <tr>\n",
       "      <th>2695197</th>\n",
       "      <td>1</td>\n",
       "    </tr>\n",
       "    <tr>\n",
       "      <th>2724381</th>\n",
       "      <td>1</td>\n",
       "    </tr>\n",
       "    <tr>\n",
       "      <th>129983</th>\n",
       "      <td>1</td>\n",
       "    </tr>\n",
       "  </tbody>\n",
       "</table>\n",
       "</div>"
      ],
      "text/plain": [
       "          cart_size\n",
       "order_id           \n",
       "2695197           1\n",
       "2724381           1\n",
       "129983            1"
      ]
     },
     "metadata": {},
     "output_type": "display_data"
    }
   ],
   "source": [
    "from scipy import stats  #import stats library\n",
    "\n",
    "cartsize_df = orders_engineered[['cart_size']]  #isolate cart_size column into a new DF\n",
    "cartsize_df.sort_values('cart_size', ascending = True, inplace = True)  #sorted values by cart_size\n",
    "display(cartsize_df.head(3))  #print first few rows of the DF"
   ]
  },
  {
   "cell_type": "code",
   "execution_count": 41,
   "metadata": {},
   "outputs": [],
   "source": [
    "#Calculate Z-score of each cart_size value.\n",
    "\n",
    "z = np.abs(stats.zscore(cartsize_df))  #calculate z-score of each value\n",
    "\n",
    "threshold = 3  #number of standard deviations from the mean value\n",
    "\n",
    "cartsize_outliers = np.where(z > 3) #save all values greater than 3 standard deviations away from mean (outliers)"
   ]
  },
  {
   "cell_type": "code",
   "execution_count": 42,
   "metadata": {},
   "outputs": [
    {
     "name": "stdout",
     "output_type": "stream",
     "text": [
      "Number of outliers in cart_size: 1846\n",
      "Percentage of outliers in cart_size: 1.41\n"
     ]
    }
   ],
   "source": [
    "#Print the number of outliers and percentage of outliers in cart_size.\n",
    "\n",
    "outlier_count = (len(z[cartsize_outliers]))  #use filter to save count of outliers\n",
    "print(f'Number of outliers in cart_size: {outlier_count}')\n",
    "\n",
    "percent_outliers = (100 * (len(z[cartsize_outliers])) / (orders_engineered.shape[0]) )  #outlier count / total count of values\n",
    "print(f'Percentage of outliers in cart_size: {percent_outliers:.2f}')"
   ]
  },
  {
   "cell_type": "code",
   "execution_count": 43,
   "metadata": {},
   "outputs": [],
   "source": [
    "#Save all rows of orders_engineered with cart_size values that are not outliers into a new clean DF.\n",
    "\n",
    "cartsize_df_clean = cartsize_df[(z < 3).all(axis=1)]  #save all clean cart_size data"
   ]
  },
  {
   "cell_type": "code",
   "execution_count": 44,
   "metadata": {},
   "outputs": [],
   "source": [
    "#Create new DF with only non-outlier cart_size data (clean data).\n",
    "\n",
    "cartsize_df_clean_oids =  list(cartsize_df_clean.index) #save all clean order_ids into a list\n",
    "\n",
    "orders_eng_clean = orders_engineered.loc[cartsize_df_clean_oids[:]]  #save all rows with clean order_ids (index)"
   ]
  },
  {
   "cell_type": "code",
   "execution_count": 45,
   "metadata": {},
   "outputs": [
    {
     "data": {
      "image/png": "[encoded data removed]",
      "text/plain": [
       "<Figure size 576x432 with 2 Axes>"
      ]
     },
     "metadata": {
      "needs_background": "light"
     },
     "output_type": "display_data"
    }
   ],
   "source": [
    "#Plot relationships between variables in orders_eng_clean DF.\n",
    "\n",
    "plt.figure(figsize = (8,6));\n",
    "plt.title('Heatmap of Variable Relationships in orders_eng_clean DF');\n",
    "sns.heatmap(orders_eng_clean.corr());  #view pair-wise correlations between variables"
   ]
  },
  {
   "cell_type": "markdown",
   "metadata": {},
   "source": [
    "**Variable Relationships:**<br>\n",
    "There is a positive correlation between cart_size and num_top20_reordered_products.<br>\n",
    "There is a strong positive correlation between cart_size and num_distinct_depts.<br>\n",
    "There is a strong negative correlation between days_since_prior_order and order_number.<br>\n",
    "However there are no variables that are directly correlated with order_hour_of_day."
   ]
  },
  {
   "cell_type": "markdown",
   "metadata": {},
   "source": [
    "## Section 4: Predict the hour of day a user will place an order \n",
    "\n",
    "### Predict order_hour_of_day using a combination of original and engineered features."
   ]
  },
  {
   "cell_type": "code",
   "execution_count": 46,
   "metadata": {},
   "outputs": [],
   "source": [
    "#Import relevant modules.\n",
    "\n",
    "from sklearn.linear_model import LinearRegression\n",
    "from sklearn.model_selection import train_test_split\n",
    "from sklearn import metrics"
   ]
  },
  {
   "cell_type": "markdown",
   "metadata": {},
   "source": [
    "### Create a Baseline Model and determine its Mean Squared Error (MSE)."
   ]
  },
  {
   "cell_type": "code",
   "execution_count": 47,
   "metadata": {},
   "outputs": [
    {
     "name": "stdout",
     "output_type": "stream",
     "text": [
      "Mean of order_hour_of_day (used for all predictions): 13.582894645300433\n",
      "Baseline MSE: 17.80512070121141\n"
     ]
    }
   ],
   "source": [
    "#Use the mean of target variable \"order_hour_of_day\" from orders_eng_clean DF for all predictions.\n",
    "#This baseline model requires 0 features to be trained upon.\n",
    "\n",
    "#Save target vector y.\n",
    "y = orders_eng_clean['order_hour_of_day']  \n",
    "\n",
    "#Save prediction value as the mean of the y vector.\n",
    "y_pred = y.mean()\n",
    "print(f'Mean of order_hour_of_day (used for all predictions): {y_pred}')\n",
    "\n",
    "#Find MSE between actual values and mean value.\n",
    "mse = np.mean(np.square(y-y_pred))\n",
    "print(f'Baseline MSE: {mse}')"
   ]
  },
  {
   "cell_type": "markdown",
   "metadata": {},
   "source": [
    "### Create multiple Polynomial Regression Models and determine which model has the lowest MSE."
   ]
  },
  {
   "cell_type": "code",
   "execution_count": 48,
   "metadata": {},
   "outputs": [],
   "source": [
    "#Import library for use with Polynomial Regression.\n",
    "\n",
    "from sklearn.preprocessing import PolynomialFeatures"
   ]
  },
  {
   "cell_type": "code",
   "execution_count": 49,
   "metadata": {},
   "outputs": [],
   "source": [
    "#Create a list of highly-correlated features from orders_eng_clean DF.\n",
    "feature_cols = ['order_number',\n",
    "                'days_since_prior_order',\n",
    "                'cart_size',\n",
    "                'num_distinct_depts']\n",
    "\n",
    "# Create X (predictor matrix) and y (target vector).\n",
    "X = orders_eng_clean[feature_cols]\n",
    "y = orders_eng_clean['order_hour_of_day']\n",
    "\n",
    "#Create train/test split. \n",
    "X_train, X_test, y_train, y_test = train_test_split(X, y, train_size = 0.7, random_state = 42) #70/30 train/test split"
   ]
  },
  {
   "cell_type": "code",
   "execution_count": 50,
   "metadata": {},
   "outputs": [],
   "source": [
    "#Iterate through k-degree polynomials and determine which k leads to the lowest MSE value.\n",
    "\n",
    "mse_list = list(); #initialize scores list to save all testing errors (MSE) for desired range of k's\n",
    "\n",
    "#Iterate through k's 1 to 10, fit the K-Polynomial Linear Regression Models, and save all MSE values. \n",
    "for k in range(1,11,1):\n",
    "    #Instantiate a PolynomialFeatures object.\n",
    "    poly = PolynomialFeatures(degree = k)  #generates all polynomial combinations of features less than or equal to degree k\n",
    "\n",
    "    #Use fit_transform on X to create a numpy array of polynomial features.\n",
    "    poly_feats_train = poly.fit_transform(X_train)  #fits and transforms the train set\n",
    "    poly_feats_test = poly.fit_transform(X_test)  #fits and transforms the test set\n",
    "\n",
    "    #Convert this array to a DataFrame and save it as poly_df.\n",
    "    poly_df_train = pd.DataFrame(poly_feats_train)\n",
    "    poly_df_test = pd.DataFrame(poly_feats_test)\n",
    "\n",
    "    #Instantiate and fit model. Train the model on the training set.\n",
    "    lr_p = LinearRegression()\n",
    "    lr_p.fit(poly_feats_train, y_train)  #fit on polynomial features (transformed from X_train)\n",
    "\n",
    "    #Predict order_hour_of_day using transformed testing set.\n",
    "    poly_pred = lr_p.predict(poly_df_test) \n",
    "\n",
    "    #Calculate testing error (MSE).\n",
    "    mse = metrics.mean_squared_error(y_test, poly_pred)  \n",
    "    mse_list.append([k, mse]) #append both current k and MSE as a sub-list"
   ]
  },
  {
   "cell_type": "code",
   "execution_count": 51,
   "metadata": {},
   "outputs": [
    {
     "data": {
      "text/html": [
       "<div>\n",
       "<style scoped>\n",
       "    .dataframe tbody tr th:only-of-type {\n",
       "        vertical-align: middle;\n",
       "    }\n",
       "\n",
       "    .dataframe tbody tr th {\n",
       "        vertical-align: top;\n",
       "    }\n",
       "\n",
       "    .dataframe thead th {\n",
       "        text-align: right;\n",
       "    }\n",
       "</style>\n",
       "<table border=\"1\" class=\"dataframe\">\n",
       "  <thead>\n",
       "    <tr style=\"text-align: right;\">\n",
       "      <th></th>\n",
       "      <th>k</th>\n",
       "      <th>mse_value</th>\n",
       "    </tr>\n",
       "  </thead>\n",
       "  <tbody>\n",
       "    <tr>\n",
       "      <th>0</th>\n",
       "      <td>1</td>\n",
       "      <td>17.733797</td>\n",
       "    </tr>\n",
       "    <tr>\n",
       "      <th>1</th>\n",
       "      <td>2</td>\n",
       "      <td>17.714342</td>\n",
       "    </tr>\n",
       "    <tr>\n",
       "      <th>2</th>\n",
       "      <td>3</td>\n",
       "      <td>17.695641</td>\n",
       "    </tr>\n",
       "    <tr>\n",
       "      <th>3</th>\n",
       "      <td>4</td>\n",
       "      <td>17.700164</td>\n",
       "    </tr>\n",
       "    <tr>\n",
       "      <th>4</th>\n",
       "      <td>5</td>\n",
       "      <td>17.701941</td>\n",
       "    </tr>\n",
       "    <tr>\n",
       "      <th>5</th>\n",
       "      <td>6</td>\n",
       "      <td>17.722147</td>\n",
       "    </tr>\n",
       "    <tr>\n",
       "      <th>6</th>\n",
       "      <td>7</td>\n",
       "      <td>17.825310</td>\n",
       "    </tr>\n",
       "    <tr>\n",
       "      <th>7</th>\n",
       "      <td>8</td>\n",
       "      <td>18.064848</td>\n",
       "    </tr>\n",
       "    <tr>\n",
       "      <th>8</th>\n",
       "      <td>9</td>\n",
       "      <td>21.160661</td>\n",
       "    </tr>\n",
       "    <tr>\n",
       "      <th>9</th>\n",
       "      <td>10</td>\n",
       "      <td>24.459326</td>\n",
       "    </tr>\n",
       "  </tbody>\n",
       "</table>\n",
       "</div>"
      ],
      "text/plain": [
       "    k  mse_value\n",
       "0   1  17.733797\n",
       "1   2  17.714342\n",
       "2   3  17.695641\n",
       "3   4  17.700164\n",
       "4   5  17.701941\n",
       "5   6  17.722147\n",
       "6   7  17.825310\n",
       "7   8  18.064848\n",
       "8   9  21.160661\n",
       "9  10  24.459326"
      ]
     },
     "metadata": {},
     "output_type": "display_data"
    }
   ],
   "source": [
    "#View k's and corresponding MSE values for k's 1 to 10.\n",
    "\n",
    "mse_df = pd.DataFrame(mse_list,columns=['k','mse_value'])  #convert mse_list to DF\n",
    "\n",
    "display(mse_df)"
   ]
  },
  {
   "cell_type": "markdown",
   "metadata": {},
   "source": [
    "**Plot k's versus Mean Squared Error (MSE) to view how the MSE changes.**"
   ]
  },
  {
   "cell_type": "code",
   "execution_count": 52,
   "metadata": {},
   "outputs": [
    {
     "data": {
      "image/png": "[encoded data removed]",
      "text/plain": [
       "<Figure size 864x576 with 1 Axes>"
      ]
     },
     "metadata": {
      "needs_background": "light"
     },
     "output_type": "display_data"
    }
   ],
   "source": [
    "mse_df.plot(x='k',y='mse_value', figsize = (12,8), color = 'crimson');\n",
    "plt.title(\"Mean Squared Error (MSE) for k-Polynomial Regression Models Fit with k's 1 to 10\", fontsize = 18);\n",
    "plt.xlabel('k (degree of polynomial)', fontsize = 14);\n",
    "plt.legend(fontsize =14);\n"
   ]
  },
  {
   "cell_type": "markdown",
   "metadata": {},
   "source": [
    "**Determine the k-Polynomial Regression model with the lowest MSE.**"
   ]
  },
  {
   "cell_type": "code",
   "execution_count": 53,
   "metadata": {},
   "outputs": [
    {
     "name": "stdout",
     "output_type": "stream",
     "text": [
      "k-Polynomial with k as 3 has the lowest MSE of 17.69564142.\n"
     ]
    }
   ],
   "source": [
    "minimum = mse_list[0]  #initialize variable to save [k, MSE] sublist with minimum score\n",
    "\n",
    "for sub in mse_list:  #iterate through all sublists in mse_list\n",
    "    if sub[1] < minimum[1]:  #compares MSE of current sublist to that of existing minimum sublist\n",
    "        minimum = sub   #if current sublist has lower MSE, save it as a new minimum sublist\n",
    "\n",
    "print(f'k-Polynomial with k as {minimum[0]} has the lowest MSE of {minimum[1]:.8f}.')\n"
   ]
  },
  {
   "cell_type": "markdown",
   "metadata": {},
   "source": [
    "### Predictive Modeling Analysis: ###"
   ]
  },
  {
   "cell_type": "markdown",
   "metadata": {},
   "source": [
    "The positive implications of having a working model to predict the order hour of day would be to bring in more profit to Instacart. Using the features of my current model, Instacart would ideally be able to test different groupings of products from multiple departments as well as varying cart sizes to narrow down the expected order hour of the user. In this way Instacart could actively recommend particular items at certain hours of day so that users are more likely to add these items to their cart. Since Instacart relies on surge pricing to bring in a portion of their profits [3], a larger cart size would allow them to capitalize upon the insights produced by this model.\n",
    "\n",
    "I decided to use four features (independent variables) to train the polynomial regression models: 'order_number', 'days_since_prior_order', 'cart_size', and 'num_distinct_depts'. These seem to be the most logical to use to predict order_hour_of_day (target variable) because they have pair-wise correlations with each other as seen in the heatmap of orders_eng_clean DF earlier. There is a strong positive correlation between cart_size and num_distinct_depts, and there is a strong negative correlation between days_since_prior_order and order_number. I did not train the models using engineered feature 'num_top20_reordered_products' because it has the lowest pair-wise correlation to either of the two other engineered features.\n",
    "\n",
    "The Degree-3 model has the lowest MSE out of the Degree-k polynomial regressions of k's 1 to 10. The Degree-3 model has a decrease of 0.11 MSE (improvement of 0.6%) compared to the Baseline model, for which all predictions are the mean of order_hour_of_day. This is an insignificant improvement from simply guessing the mean, and performance can be further impacted based on the train test split of the data (in this case I used a 70/30 train test split). In the case I used a lower proportion of data to train the model, the MSE potentially would have been higher (worse) than even the Baseline model.\n",
    "\n",
    "**Conclusion: This Degree-3 polynomial regression model should not be used for predicting the order hour of day for a given user.**"
   ]
  },
  {
   "cell_type": "markdown",
   "metadata": {},
   "source": [
    "## Section 5: Future Work"
   ]
  },
  {
   "cell_type": "markdown",
   "metadata": {},
   "source": [
    "The dataset used in this report has limited predictive capability for order hour of day because it does not account for seasonality in online grocery shopping. The only other features establishing a sense of timeline in the data are the day_of_week and order_number columns, which have essentially no correlation to the order_hour_of_day column. \n",
    "\n",
    "The full dataset represents orders over the entire year of 2017, so engineering features from the existing dataset with higher-correlation to order_hour_of_day could lead to a better model. For instance, I could map ranges of hours to intervals of day (e.g. morning, afternoon, evening) and use a KNearestNeighbors Classifier Model to predict a particular day interval (less granular than order hour of day). Another option could be to find a supplemental dataset with more time-oriented features so I could conduct deeper analyses into seasonality of orders (e.g. timestamp of order, month of order, etc) and create a better model."
   ]
  },
  {
   "cell_type": "markdown",
   "metadata": {},
   "source": [
    "## References:\n",
    "\n",
    "1) \"3 Million Instacart Orders, Open Sourced\", Accessed from https://tech.instacart.com/3-million-instacart-orders-open-sourced-d40d29ead6f2.\n",
    "\n",
    "2) \"The Instacart Online Grocery Shopping Dataset 2017”, Accessed from https://www.instacart.com/datasets/grocery-shopping-2017 on <6/16/20>.\n",
    "\n",
    "3) \"How does Instacart make money?\", Accessed from https://vator.tv/news/2016-08-02-how-does-instacart-make-money."
   ]
  }
 ],
 "metadata": {
  "kernelspec": {
   "display_name": "Python 3",
   "language": "python",
   "name": "python3"
  },
  "language_info": {
   "codemirror_mode": {
    "name": "ipython",
    "version": 3
   },
   "file_extension": ".py",
   "mimetype": "text/x-python",
   "name": "python",
   "nbconvert_exporter": "python",
   "pygments_lexer": "ipython3",
   "version": "3.7.6"
  }
 },
 "nbformat": 4,
 "nbformat_minor": 4
}
